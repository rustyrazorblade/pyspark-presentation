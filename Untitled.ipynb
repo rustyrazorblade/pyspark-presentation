{
 "cells": [
  {
   "cell_type": "code",
   "execution_count": 1,
   "metadata": {
    "collapsed": false
   },
   "outputs": [
    {
     "data": {
      "text/plain": [
       "[Row(favorite_food=u'bacon', count=1),\n",
       " Row(favorite_food=u'pizza', count=2),\n",
       " Row(favorite_food=u'pie', count=1)]"
      ]
     },
     "execution_count": 1,
     "metadata": {},
     "output_type": "execute_result"
    }
   ],
   "source": [
    "from pyspark_cassandra import CassandraSparkContext, Row\n",
    "from pyspark import SparkContext, SparkConf\n",
    "from pyspark.sql import SQLContext # needed for toDF()\n",
    "\n",
    "users = sc.cassandraTable(\"demo\", \"user\").toDF()\n",
    "food_count = users.select(\"favorite_food\").groupBy(\"favorite_food\").count()\n",
    "food_count.collect()"
   ]
  },
  {
   "cell_type": "code",
   "execution_count": 2,
   "metadata": {
    "collapsed": false
   },
   "outputs": [
    {
     "data": {
      "text/plain": [
       "[(u'bacon', 1), (u'pie', 1), (u'pizza', 2)]"
      ]
     },
     "execution_count": 2,
     "metadata": {},
     "output_type": "execute_result"
    }
   ],
   "source": [
    "# RDD counting example\n",
    "u = sc.cassandraTable(\"demo\", \"user\")\n",
    "u.map(lambda x: (x['favorite_food'], 1)).\\\n",
    "      reduceByKey(lambda x, y: x + y).collect()\n"
   ]
  },
  {
   "cell_type": "code",
   "execution_count": null,
   "metadata": {
    "collapsed": true
   },
   "outputs": [],
   "source": [
    "users = sc.cassandraTable(\"demo\", \"user\").toDF()\n",
    "\n",
    "food_count = users.select(\"favorite_food\").\\\n",
    "                   groupBy(\"favorite_food\").count()\n",
    "\n",
    "food_count.collect()"
   ]
  },
  {
   "cell_type": "code",
   "execution_count": 10,
   "metadata": {
    "collapsed": false
   },
   "outputs": [
    {
     "data": {
      "text/plain": [
       "[Row(favorite_food=u'bacon', c1=1),\n",
       " Row(favorite_food=u'pizza', c1=2),\n",
       " Row(favorite_food=u'pie', c1=1)]"
      ]
     },
     "execution_count": 10,
     "metadata": {},
     "output_type": "execute_result"
    }
   ],
   "source": [
    "sql = SQLContext(sc)\n",
    "users = sc.cassandraTable(\"demo\", \"user\").toDF()\n",
    "users.registerTempTable(\"users\")\n",
    "sql.sql(\"\"\"select favorite_food, count(favorite_food) \n",
    "            from users group by favorite_food \"\"\").collect()"
   ]
  },
  {
   "cell_type": "code",
   "execution_count": null,
   "metadata": {
    "collapsed": true
   },
   "outputs": [],
   "source": []
  }
 ],
 "metadata": {
  "kernelspec": {
   "display_name": "Python 2",
   "language": "python",
   "name": "python2"
  },
  "language_info": {
   "codemirror_mode": {
    "name": "ipython",
    "version": 2
   },
   "file_extension": ".py",
   "mimetype": "text/x-python",
   "name": "python",
   "nbconvert_exporter": "python",
   "pygments_lexer": "ipython2",
   "version": "2.7.8"
  }
 },
 "nbformat": 4,
 "nbformat_minor": 0
}
