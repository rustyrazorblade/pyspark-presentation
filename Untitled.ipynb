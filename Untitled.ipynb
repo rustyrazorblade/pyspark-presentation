{
 "cells": [
  {
   "cell_type": "code",
   "execution_count": 2,
   "metadata": {
    "collapsed": false
   },
   "outputs": [
    {
     "data": {
      "text/plain": [
       "[Row(favorite_food=u'bacon', count=1),\n",
       " Row(favorite_food=u'pizza', count=2),\n",
       " Row(favorite_food=u'pie', count=1)]"
      ]
     },
     "execution_count": 2,
     "metadata": {},
     "output_type": "execute_result"
    }
   ],
   "source": [
    "from pyspark_cassandra import CassandraSparkContext, Row\n",
    "from pyspark import SparkContext, SparkConf\n",
    "from pyspark.sql import SQLContext # needed for toDF()\n",
    "\n",
    "users = sc.cassandraTable(\"demo\", \"user\").toDF()\n",
    "food_count = users.select(\"favorite_food\").groupBy(\"favorite_food\").count()\n",
    "food_count.collect()"
   ]
  },
  {
   "cell_type": "code",
   "execution_count": 3,
   "metadata": {
    "collapsed": false
   },
   "outputs": [
    {
     "data": {
      "text/plain": [
       "[(u'bacon', 1), (u'pie', 1), (u'pizza', 2)]"
      ]
     },
     "execution_count": 3,
     "metadata": {},
     "output_type": "execute_result"
    }
   ],
   "source": [
    "# RDD counting example\n",
    "u = sc.cassandraTable(\"demo\", \"user\")\n",
    "u.map(lambda x: (x['favorite_food'], 1)).\\\n",
    "      reduceByKey(lambda x, y: x + y).collect()\n"
   ]
  },
  {
   "cell_type": "code",
   "execution_count": 4,
   "metadata": {
    "collapsed": false
   },
   "outputs": [
    {
     "data": {
      "text/plain": [
       "[Row(favorite_food=u'bacon', count=1),\n",
       " Row(favorite_food=u'pizza', count=2),\n",
       " Row(favorite_food=u'pie', count=1)]"
      ]
     },
     "execution_count": 4,
     "metadata": {},
     "output_type": "execute_result"
    }
   ],
   "source": [
    "users = sc.cassandraTable(\"demo\", \"user\").toDF()\n",
    "\n",
    "food_count = users.select(\"favorite_food\").\\\n",
    "                   groupBy(\"favorite_food\").count()\n",
    "\n",
    "food_count.collect()"
   ]
  },
  {
   "cell_type": "code",
   "execution_count": 5,
   "metadata": {
    "collapsed": false
   },
   "outputs": [
    {
     "data": {
      "text/plain": [
       "[Row(favorite_food=u'bacon', c1=1),\n",
       " Row(favorite_food=u'pizza', c1=2),\n",
       " Row(favorite_food=u'pie', c1=1)]"
      ]
     },
     "execution_count": 5,
     "metadata": {},
     "output_type": "execute_result"
    }
   ],
   "source": [
    "sql = SQLContext(sc)\n",
    "users = sc.cassandraTable(\"demo\", \"user\").toDF()\n",
    "users.registerTempTable(\"users\")\n",
    "sql.sql(\"\"\"select favorite_food, count(favorite_food) \n",
    "            from users group by favorite_food \"\"\").collect()"
   ]
  },
  {
   "cell_type": "code",
   "execution_count": 6,
   "metadata": {
    "collapsed": false
   },
   "outputs": [],
   "source": [
    "result = sql.sql(\"\"\"select favorite_food, count(favorite_food) \n",
    "            from users group by favorite_food \"\"\").toPandas()"
   ]
  },
  {
   "cell_type": "code",
   "execution_count": 9,
   "metadata": {
    "collapsed": false
   },
   "outputs": [],
   "source": [
    "%matplotlib inline "
   ]
  },
  {
   "cell_type": "code",
   "execution_count": 14,
   "metadata": {
    "collapsed": false
   },
   "outputs": [
    {
     "data": {
      "text/html": [
       "<div>\n",
       "<table border=\"1\" class=\"dataframe\">\n",
       "  <thead>\n",
       "    <tr style=\"text-align: right;\">\n",
       "      <th></th>\n",
       "      <th>c1</th>\n",
       "    </tr>\n",
       "    <tr>\n",
       "      <th>favorite_food</th>\n",
       "      <th></th>\n",
       "    </tr>\n",
       "  </thead>\n",
       "  <tbody>\n",
       "    <tr>\n",
       "      <th>bacon</th>\n",
       "      <td>1</td>\n",
       "    </tr>\n",
       "    <tr>\n",
       "      <th>pizza</th>\n",
       "      <td>2</td>\n",
       "    </tr>\n",
       "    <tr>\n",
       "      <th>pie</th>\n",
       "      <td>1</td>\n",
       "    </tr>\n",
       "  </tbody>\n",
       "</table>\n",
       "</div>"
      ],
      "text/plain": [
       "               c1\n",
       "favorite_food    \n",
       "bacon           1\n",
       "pizza           2\n",
       "pie             1"
      ]
     },
     "execution_count": 14,
     "metadata": {},
     "output_type": "execute_result"
    }
   ],
   "source": [
    "result.set_index(\"favorite_food\")"
   ]
  },
  {
   "cell_type": "code",
   "execution_count": 23,
   "metadata": {
    "collapsed": false
   },
   "outputs": [
    {
     "data": {
      "text/plain": [
       "<matplotlib.axes._subplots.AxesSubplot at 0x10bde9150>"
      ]
     },
     "execution_count": 23,
     "metadata": {},
     "output_type": "execute_result"
    },
    {
     "data": {
      "image/png": "[encoded data removed]",
      "text/plain": [
       "<matplotlib.figure.Figure at 0x10bdde910>"
      ]
     },
     "metadata": {},
     "output_type": "display_data"
    }
   ],
   "source": [
    "result.set_index(\"favorite_food\").plot(kind=\"pie\",y=\"c1\", legend=False)"
   ]
  },
  {
   "cell_type": "code",
   "execution_count": null,
   "metadata": {
    "collapsed": true
   },
   "outputs": [],
   "source": []
  }
 ],
 "metadata": {
  "kernelspec": {
   "display_name": "Python 2",
   "language": "python",
   "name": "python2"
  },
  "language_info": {
   "codemirror_mode": {
    "name": "ipython",
    "version": 2
   },
   "file_extension": ".py",
   "mimetype": "text/x-python",
   "name": "python",
   "nbconvert_exporter": "python",
   "pygments_lexer": "ipython2",
   "version": "2.7.8"
  }
 },
 "nbformat": 4,
 "nbformat_minor": 0
}
